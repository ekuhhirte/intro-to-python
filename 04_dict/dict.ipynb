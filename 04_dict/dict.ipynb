{
 "cells": [
  {
   "cell_type": "code",
   "execution_count": 3,
   "id": "65aab157",
   "metadata": {},
   "outputs": [
    {
     "name": "stdout",
     "output_type": "stream",
     "text": [
      "{'name': 'Jack', 'age': 20, 'city': 'Lakeland', 'email': 'jack@floridapoly.edu'}\n"
     ]
    },
    {
     "data": {
      "text/plain": [
       "'notfound'"
      ]
     },
     "execution_count": 3,
     "metadata": {},
     "output_type": "execute_result"
    }
   ],
   "source": [
    "my_dict = {\"name\" : \"Jack\", \"age\": 25, \"city\": \"Lakeland\"}\n",
    "\n",
    "#modify the value\n",
    "my_dict[\"age\"] = 20\n",
    "\n",
    "#add a new key value pair\n",
    "\n",
    "my_dict[\"email\"] = \"jack@floridapoly.edu\"\n",
    "\n",
    "print(my_dict)\n",
    "\n",
    "#get method\n",
    "my_dict.get(\"home\", \"notfound\") # return not found if key doesn't exist"
   ]
  },
  {
   "cell_type": "code",
   "execution_count": null,
   "id": "3c8bab3e",
   "metadata": {},
   "outputs": [],
   "source": []
  }
 ],
 "metadata": {
  "kernelspec": {
   "display_name": "Python 3",
   "language": "python",
   "name": "python3"
  },
  "language_info": {
   "codemirror_mode": {
    "name": "ipython",
    "version": 3
   },
   "file_extension": ".py",
   "mimetype": "text/x-python",
   "name": "python",
   "nbconvert_exporter": "python",
   "pygments_lexer": "ipython3",
   "version": "3.12.1"
  }
 },
 "nbformat": 4,
 "nbformat_minor": 5
}
