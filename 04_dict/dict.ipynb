{
 "cells": [
  {
   "cell_type": "code",
   "execution_count": 4,
   "id": "65aab157",
   "metadata": {},
   "outputs": [
    {
     "name": "stdout",
     "output_type": "stream",
     "text": [
      "{'name': 'Jack', 'age': 20, 'city': 'Lakeland', 'email': 'jack@floridapoly.edu'}\n",
      "dict_keys(['name', 'age', 'city', 'email'])\n",
      "dict_values(['Jack', 20, 'Lakeland', 'jack@floridapoly.edu'])\n",
      "dict_items([('name', 'Jack'), ('age', 20), ('city', 'Lakeland'), ('email', 'jack@floridapoly.edu')])\n"
     ]
    }
   ],
   "source": [
    "my_dict = {\"name\" : \"Jack\", \"age\": 25, \"city\": \"Lakeland\"}\n",
    "\n",
    "#modify the value\n",
    "my_dict[\"age\"] = 20\n",
    "\n",
    "#add a new key value pair\n",
    "\n",
    "my_dict[\"email\"] = \"jack@floridapoly.edu\"\n",
    "\n",
    "print(my_dict)\n",
    "\n",
    "#get method\n",
    "my_dict.get(\"home\", \"notfound\") # return not found if key doesn't exist\n",
    "\n",
    "#keys - return all the keys\n",
    "\n",
    "print(my_dict.keys())\n",
    "\n",
    "#values - return all the values\n",
    "\n",
    "print(my_dict.values())\n",
    "\n",
    "# items - returns all key-value pairs\n",
    "\n",
    "print(my_dict.items())"
   ]
  },
  {
   "cell_type": "code",
   "execution_count": 7,
   "id": "3c8bab3e",
   "metadata": {},
   "outputs": [
    {
     "name": "stdout",
     "output_type": "stream",
     "text": [
      "name Anna\n",
      "age 19\n",
      "city Orlando\n",
      "name -> Anna\n",
      "age -> 19\n",
      "city -> Orlando\n"
     ]
    }
   ],
   "source": [
    "#Iteration over Dictionaries\n",
    "info = dict(name = \"Anna\", age = 19, city = \"Orlando\")\n",
    "\n",
    "for key in info:\n",
    "    print(key, info[key]) \n",
    "\n",
    "for key, value in info.items():\n",
    "    print(f\"{key} -> {value}\")"
   ]
  },
  {
   "cell_type": "code",
   "execution_count": 9,
   "id": "b8f6a1c1",
   "metadata": {},
   "outputs": [
    {
     "name": "stdout",
     "output_type": "stream",
     "text": [
      "{'banana': 4, 'apple': 1, 'orange': 2}\n"
     ]
    }
   ],
   "source": [
    "#Practice\n",
    "#Count the frequency of each word\n",
    "\n",
    "msg = \"banana apple orange orange banana banana banana\"\n",
    "\n",
    "words = msg.split(\" \")\n",
    "\n",
    "#create an empty dictionary\n",
    "\n",
    "word_count = {}\n",
    "\n",
    "for word in words:\n",
    "    word_count[word] = word_count.get(word, 0) + 1\n",
    "\n",
    "print(word_count)\n"
   ]
  },
  {
   "cell_type": "code",
   "execution_count": null,
   "id": "707298b2",
   "metadata": {},
   "outputs": [],
   "source": []
  }
 ],
 "metadata": {
  "kernelspec": {
   "display_name": "Python 3",
   "language": "python",
   "name": "python3"
  },
  "language_info": {
   "codemirror_mode": {
    "name": "ipython",
    "version": 3
   },
   "file_extension": ".py",
   "mimetype": "text/x-python",
   "name": "python",
   "nbconvert_exporter": "python",
   "pygments_lexer": "ipython3",
   "version": "3.12.1"
  }
 },
 "nbformat": 4,
 "nbformat_minor": 5
}
