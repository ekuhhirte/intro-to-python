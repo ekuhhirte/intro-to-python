{
 "cells": [
  {
   "cell_type": "code",
   "execution_count": 2,
   "id": "80c088ef",
   "metadata": {},
   "outputs": [
    {
     "name": "stdout",
     "output_type": "stream",
     "text": [
      "14\n"
     ]
    }
   ],
   "source": [
    "#len function\n",
    "# Returns the number of elements in the collection\n",
    "text = \"hello, python!\"\n",
    "length = len(text)\n",
    "print(length)"
   ]
  },
  {
   "cell_type": "code",
   "execution_count": 7,
   "id": "669751fa",
   "metadata": {},
   "outputs": [
    {
     "name": "stdout",
     "output_type": "stream",
     "text": [
      "K\n",
      "n\n",
      "n\n",
      "t\n",
      "K\n"
     ]
    }
   ],
   "source": [
    "#Access the elements\n",
    "name = \"Konstantin\"\n",
    "print(name[0])\n",
    "print(name[2])\n",
    "\n",
    "#use negative indexes\n",
    "print(name[-1])\n",
    "print(name[-3])\n",
    "print(name[-len(name)])"
   ]
  },
  {
   "cell_type": "code",
   "execution_count": 6,
   "id": "2dac5597",
   "metadata": {},
   "outputs": [
    {
     "name": "stdout",
     "output_type": "stream",
     "text": [
      "Pyt\n",
      "tho\n",
      "ython\n",
      "thon\n",
      "Pyt\n",
      "hon\n",
      "Pto\n",
      "nohtyP\n",
      "nhy\n"
     ]
    }
   ],
   "source": [
    "#string slicing\n",
    "language = \"Python\"\n",
    "print(language[0:3]) #prints first three characters\n",
    "print(language[2:5])\n",
    "\n",
    "print(language[1:len(language)])#prints everything from the second character           \n",
    "\n",
    "#omit the first and last indices\n",
    "print(language[2:])\n",
    "print(language[:3])\n",
    "\n",
    "#use negative indices\n",
    "print(language[-3:])\n",
    "\n",
    "#set the step of slicing\n",
    "print(language[::2])\n",
    "\n",
    "print(language[::-1])\n",
    "print(language[::-2])"
   ]
  },
  {
   "cell_type": "code",
   "execution_count": 10,
   "id": "fcceca49",
   "metadata": {},
   "outputs": [
    {
     "name": "stdout",
     "output_type": "stream",
     "text": [
      "56789\n",
      "1231234567\n"
     ]
    }
   ],
   "source": [
    "text = \"123456789\"\n",
    "\n",
    "length =len(text)\n",
    "print(text[(len(text)//2):])\n",
    "\n",
    "#print first 3 characters and last 3 characters\n",
    "print(text[:3] + text[:-2])"
   ]
  },
  {
   "cell_type": "code",
   "execution_count": 13,
   "id": "f9baa3a6",
   "metadata": {},
   "outputs": [
    {
     "name": "stdout",
     "output_type": "stream",
     "text": [
      "The person is a toddler\n"
     ]
    }
   ],
   "source": [
    "age = 2;\n",
    "\n",
    "print(\"The person is a\", end=\" \")\n",
    "if age<2:\n",
    "    print(\"baby\")\n",
    "elif age<4:\n",
    "    print(\"toddler\")\n",
    "elif age<13:\n",
    "    print(\"kid\")\n",
    "elif age<20:\n",
    "    print(\"teenager\")\n",
    "else:\n",
    "    print(\"adult\")"
   ]
  },
  {
   "cell_type": "code",
   "execution_count": 22,
   "id": "aeccfef5",
   "metadata": {},
   "outputs": [
    {
     "name": "stdout",
     "output_type": "stream",
     "text": [
      "['toyota', ' bmw', ' audi', ' volkswagen', ' nissan']\n",
      "Toyota\n",
      "BMW\n",
      "AUDI\n",
      "Volkswagen\n",
      "Nissan\n",
      "\n",
      "Toyota\n",
      "BMW\n",
      "AUDI\n",
      "Volkswagen\n",
      "Nissan\n"
     ]
    }
   ],
   "source": [
    "# split the string\n",
    "makes = \"toyota, bmw, audi, volkswagen, nissan\"\n",
    "car_makes = makes.split(\",\") #car_makes is a list (array) of strings\n",
    "\n",
    "print(car_makes)\n",
    "\n",
    "#iterate throuhgh the list in order to strip all spaces off\n",
    "\n",
    "for make in car_makes:\n",
    "    make = make.lstrip()\n",
    "    if make == \"bmw\" or make == \"audi\":\n",
    "        print(make.upper())\n",
    "    else:\n",
    "        print(make.title())\n",
    "\n",
    "#or\n",
    "print()\n",
    "\n",
    "for make in car_makes:\n",
    "    make = make.lstrip()\n",
    "    if make in [\"bmw\", \"audi\"]:\n",
    "        print(make.upper())\n",
    "    else:\n",
    "        print(make.title())"
   ]
  },
  {
   "cell_type": "code",
   "execution_count": null,
   "id": "f971b84a",
   "metadata": {},
   "outputs": [
    {
     "name": "stdout",
     "output_type": "stream",
     "text": [
      "1\n",
      "4\n",
      "9\n",
      "16\n",
      "25\n",
      "36\n",
      "49\n",
      "64\n",
      "81\n",
      "100\n"
     ]
    }
   ],
   "source": [
    "# for loop\n",
    "# range BIF\n",
    "#for i in range(1,100,5):\n",
    "#    print(i)\n",
    "\n",
    "for i in range(1,11):\n",
    "    print(i*i)"
   ]
  },
  {
   "cell_type": "code",
   "execution_count": 1,
   "id": "4372cbd9",
   "metadata": {},
   "outputs": [
    {
     "name": "stdout",
     "output_type": "stream",
     "text": [
      "1\n",
      "4\n",
      "9\n",
      "16\n",
      "25\n",
      "36\n",
      "49\n",
      "64\n",
      "81\n",
      "100\n"
     ]
    }
   ],
   "source": [
    "#userInput = input(\"Enter a number: \")\n",
    "userInput = 10\n",
    "squares = [i**2 for i in range (1,userInput + 1)]\n",
    "\n",
    "for i in squares:\n",
    "    print(i)"
   ]
  }
 ],
 "metadata": {
  "kernelspec": {
   "display_name": "Python 3",
   "language": "python",
   "name": "python3"
  },
  "language_info": {
   "codemirror_mode": {
    "name": "ipython",
    "version": 3
   },
   "file_extension": ".py",
   "mimetype": "text/x-python",
   "name": "python",
   "nbconvert_exporter": "python",
   "pygments_lexer": "ipython3",
   "version": "3.12.1"
  }
 },
 "nbformat": 4,
 "nbformat_minor": 5
}
