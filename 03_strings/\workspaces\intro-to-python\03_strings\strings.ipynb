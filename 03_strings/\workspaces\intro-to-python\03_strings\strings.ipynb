{
 "cells": [
  {
   "cell_type": "code",
   "execution_count": 2,
   "id": "80c088ef",
   "metadata": {},
   "outputs": [
    {
     "name": "stdout",
     "output_type": "stream",
     "text": [
      "14\n"
     ]
    }
   ],
   "source": [
    "#len function\n",
    "# Returns the number of elements in the collection\n",
    "text = \"hello, python!\"\n",
    "length = len(text)\n",
    "print(length)"
   ]
  },
  {
   "cell_type": "code",
   "execution_count": 7,
   "id": "669751fa",
   "metadata": {},
   "outputs": [
    {
     "name": "stdout",
     "output_type": "stream",
     "text": [
      "K\n",
      "n\n",
      "n\n",
      "t\n",
      "K\n"
     ]
    }
   ],
   "source": [
    "#Access the elements\n",
    "name = \"Konstantin\"\n",
    "print(name[0])\n",
    "print(name[2])\n",
    "\n",
    "#use negative indexes\n",
    "print(name[-1])\n",
    "print(name[-3])\n",
    "print(name[-len(name)])"
   ]
  },
  {
   "cell_type": "code",
   "execution_count": 6,
   "id": "2dac5597",
   "metadata": {},
   "outputs": [
    {
     "name": "stdout",
     "output_type": "stream",
     "text": [
      "Pyt\n",
      "tho\n",
      "ython\n",
      "thon\n",
      "Pyt\n",
      "hon\n",
      "Pto\n",
      "nohtyP\n",
      "nhy\n"
     ]
    }
   ],
   "source": [
    "#string slicing\n",
    "language = \"Python\"\n",
    "print(language[0:3]) #prints first three characters\n",
    "print(language[2:5])\n",
    "\n",
    "print(language[1:len(language)])#prints everything from the second character           \n",
    "\n",
    "#omit the first and last indices\n",
    "print(language[2:])\n",
    "print(language[:3])\n",
    "\n",
    "#use negative indices\n",
    "print(language[-3:])\n",
    "\n",
    "#set the step of slicing\n",
    "print(language[::2])\n",
    "\n",
    "print(language[::-1])\n",
    "print(language[::-2])"
   ]
  },
  {
   "cell_type": "code",
   "execution_count": null,
   "id": "fcceca49",
   "metadata": {},
   "outputs": [
    {
     "name": "stdout",
     "output_type": "stream",
     "text": [
      "56789\n"
     ]
    }
   ],
   "source": [
    "text = \"123456789\"\n",
    "\n",
    "length =len(text)\n",
    "print(text[(len(text)//2):])\n",
    "\n",
    "#print first 3 characters and last 3 characters\n",
    "print(text[:3] + text[:-2])"
   ]
  }
 ],
 "metadata": {
  "kernelspec": {
   "display_name": "Python 3",
   "language": "python",
   "name": "python3"
  },
  "language_info": {
   "codemirror_mode": {
    "name": "ipython",
    "version": 3
   },
   "file_extension": ".py",
   "mimetype": "text/x-python",
   "name": "python",
   "nbconvert_exporter": "python",
   "pygments_lexer": "ipython3",
   "version": "3.12.1"
  }
 },
 "nbformat": 4,
 "nbformat_minor": 5
}
