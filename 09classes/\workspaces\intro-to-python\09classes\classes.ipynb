{
 "cells": [
  {
   "cell_type": "code",
   "execution_count": null,
   "id": "16a1a0be",
   "metadata": {},
   "outputs": [],
   "source": [
    "# Create a dog class\n",
    "\n",
    "class Dog:\n",
    "    def bark():\n",
    "        return \"Woof! Woof!\"\n",
    "    \n",
    "#Create an object of Dog Class\n",
    "\n",
    "my_dog = Dog()"
   ]
  }
 ],
 "metadata": {
  "language_info": {
   "name": "python"
  }
 },
 "nbformat": 4,
 "nbformat_minor": 5
}
