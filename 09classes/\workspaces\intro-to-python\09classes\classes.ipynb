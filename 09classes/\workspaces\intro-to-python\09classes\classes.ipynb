{
 "cells": [
  {
   "cell_type": "code",
   "execution_count": 3,
   "id": "16a1a0be",
   "metadata": {},
   "outputs": [
    {
     "name": "stdout",
     "output_type": "stream",
     "text": [
      "Woof! Woof!\n"
     ]
    }
   ],
   "source": [
    "# Create a dog class\n",
    "\n",
    "class Dog:\n",
    "    def bark(self): #instance method\n",
    "        return \"Woof! Woof!\"\n",
    "    \n",
    "#Create an object of Dog Class\n",
    "\n",
    "my_dog = Dog()\n",
    "\n",
    "print(my_dog.bark())"
   ]
  },
  {
   "cell_type": "code",
   "execution_count": 8,
   "id": "7bdd4832",
   "metadata": {},
   "outputs": [
    {
     "name": "stdout",
     "output_type": "stream",
     "text": [
      "25\n"
     ]
    }
   ],
   "source": [
    "class Square:\n",
    "    side = 9\n",
    "    #Create an instance method area\n",
    "    def area(self):\n",
    "        return self.side**2\n",
    "\n",
    "notTriangle = Square()\n",
    "notTriangle.side = 5\n",
    "\n",
    "print(notTriangle.area())"
   ]
  },
  {
   "cell_type": "code",
   "execution_count": 9,
   "id": "3b027908",
   "metadata": {},
   "outputs": [
    {
     "name": "stdout",
     "output_type": "stream",
     "text": [
      "John\n"
     ]
    }
   ],
   "source": [
    "#__init__ special method which is called when an object is craeted\n",
    "\n",
    "class Cat:\n",
    "    def __init__(self, name):\n",
    "        self.name = name\n",
    "\n",
    "cat = Cat(\"John\")\n",
    "\n",
    "print(cat.name)"
   ]
  }
 ],
 "metadata": {
  "kernelspec": {
   "display_name": "Python 3",
   "language": "python",
   "name": "python3"
  },
  "language_info": {
   "codemirror_mode": {
    "name": "ipython",
    "version": 3
   },
   "file_extension": ".py",
   "mimetype": "text/x-python",
   "name": "python",
   "nbconvert_exporter": "python",
   "pygments_lexer": "ipython3",
   "version": "3.12.1"
  }
 },
 "nbformat": 4,
 "nbformat_minor": 5
}
