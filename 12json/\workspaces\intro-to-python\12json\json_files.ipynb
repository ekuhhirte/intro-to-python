{
 "cells": [
  {
   "cell_type": "code",
   "execution_count": 4,
   "id": "d4b8222c",
   "metadata": {},
   "outputs": [
    {
     "name": "stdout",
     "output_type": "stream",
     "text": [
      "/workspaces/intro-to-python\n",
      "/workspaces/intro-to-python/11protected/properties.py\n",
      "/workspaces/intro-to-python/09classes/class_methods.py\n",
      "/workspaces/intro-to-python/09classes/classes.py\n",
      "/workspaces/intro-to-python/09classes/static_methods.py\n",
      "/workspaces/intro-to-python/10inheritance/student.py\n",
      "/workspaces/intro-to-python/lists/lists.py\n",
      "/workspaces/intro-to-python/07maps/comprehensions.py\n",
      "/workspaces/intro-to-python/07maps/map.py\n",
      "/workspaces/intro-to-python/05_functions/functions.py\n",
      "/workspaces/intro-to-python/06_lambda_functions/lambda.py\n",
      "/workspaces/intro-to-python/08decorators/testdecorators.py\n",
      "/workspaces/intro-to-python/08decorators/decorators.py\n",
      "/workspaces/intro-to-python/test/test.py\n"
     ]
    }
   ],
   "source": [
    "#Recursive search\n",
    "\n",
    "from pathlib import Path\n",
    "\n",
    "p = Path(\".\").absolute().parent\n",
    "\n",
    "print(p.absolute())\n",
    "\n",
    "# Find all python files in the directory\n",
    "for py_file in p.rglob(\"*py\"):\n",
    "    print(py_file)"
   ]
  },
  {
   "cell_type": "code",
   "execution_count": 8,
   "id": "3474e985",
   "metadata": {},
   "outputs": [
    {
     "name": "stdout",
     "output_type": "stream",
     "text": [
      "Help on function rglob in module pathlib:\n",
      "\n",
      "rglob(self, pattern, *, case_sensitive=None)\n",
      "    Recursively yield all existing files (of any kind, including\n",
      "    directories) matching the given relative pattern, anywhere in\n",
      "    this subtree.\n",
      "\n"
     ]
    }
   ],
   "source": [
    "help(Path.rglob)"
   ]
  }
 ],
 "metadata": {
  "kernelspec": {
   "display_name": "Python 3",
   "language": "python",
   "name": "python3"
  },
  "language_info": {
   "codemirror_mode": {
    "name": "ipython",
    "version": 3
   },
   "file_extension": ".py",
   "mimetype": "text/x-python",
   "name": "python",
   "nbconvert_exporter": "python",
   "pygments_lexer": "ipython3",
   "version": "3.12.1"
  }
 },
 "nbformat": 4,
 "nbformat_minor": 5
}
