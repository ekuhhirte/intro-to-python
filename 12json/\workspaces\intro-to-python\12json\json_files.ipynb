{
 "cells": [
  {
   "cell_type": "code",
   "execution_count": 4,
   "id": "d4b8222c",
   "metadata": {},
   "outputs": [
    {
     "name": "stdout",
     "output_type": "stream",
     "text": [
      "/workspaces/intro-to-python\n",
      "/workspaces/intro-to-python/11protected/properties.py\n",
      "/workspaces/intro-to-python/09classes/class_methods.py\n",
      "/workspaces/intro-to-python/09classes/classes.py\n",
      "/workspaces/intro-to-python/09classes/static_methods.py\n",
      "/workspaces/intro-to-python/10inheritance/student.py\n",
      "/workspaces/intro-to-python/lists/lists.py\n",
      "/workspaces/intro-to-python/07maps/comprehensions.py\n",
      "/workspaces/intro-to-python/07maps/map.py\n",
      "/workspaces/intro-to-python/05_functions/functions.py\n",
      "/workspaces/intro-to-python/06_lambda_functions/lambda.py\n",
      "/workspaces/intro-to-python/08decorators/testdecorators.py\n",
      "/workspaces/intro-to-python/08decorators/decorators.py\n",
      "/workspaces/intro-to-python/test/test.py\n"
     ]
    }
   ],
   "source": [
    "#Recursive search\n",
    "\n",
    "from pathlib import Path\n",
    "\n",
    "p = Path(\".\").absolute().parent\n",
    "\n",
    "print(p.absolute())\n",
    "\n",
    "# Find all python files in the directory\n",
    "for py_file in p.rglob(\"*py\"):\n",
    "    print(py_file)"
   ]
  },
  {
   "cell_type": "code",
   "execution_count": 9,
   "id": "3474e985",
   "metadata": {},
   "outputs": [
    {
     "name": "stdout",
     "output_type": "stream",
     "text": [
      "Help on function rglob in module pathlib:\n",
      "\n",
      "rglob(self, pattern, *, case_sensitive=None)\n",
      "    Recursively yield all existing files (of any kind, including\n",
      "    directories) matching the given relative pattern, anywhere in\n",
      "    this subtree.\n",
      "\n"
     ]
    }
   ],
   "source": [
    "help(Path.rglob)"
   ]
  },
  {
   "cell_type": "code",
   "execution_count": 17,
   "id": "321164ed",
   "metadata": {},
   "outputs": [],
   "source": [
    "# Create a json file\n",
    "\n",
    "import json\n",
    "\n",
    "class Hello:\n",
    "    def __init__(self):\n",
    "        self.msg = \"Hello\"\n",
    "    def __str__(self):\n",
    "        return self.msg\n",
    "    \n",
    "class HelloEncoder(json.JSONEncoder):\n",
    "    def default(self, object):\n",
    "        if isinstance(object, Hello):\n",
    "            return {\n",
    "                \"Class\": \"Hello\",\n",
    "                \"Message\": object.__str__()\n",
    "            }\n",
    "        else:\n",
    "            return super().default(object)\n",
    "\n",
    "# Creating some data\n",
    "data = {}\n",
    "data[\"Name\"] = \"Bob\"\n",
    "data[\"Address\"] = \"1014 Orange St\"\n",
    "data[\"Languages\"] = [\"SQL\", \"Java\", \"Fortran\"]\n",
    "data[\"Hello\"] = Hello()\n",
    "\n",
    "# Write data into a json file\n",
    "\n",
    "with open(\"bob.json\", \"w\") as file:\n",
    "    json.dump(data, file, indent=4, cls=HelloEncoder)"
   ]
  },
  {
   "cell_type": "code",
   "execution_count": 18,
   "id": "6311d83c",
   "metadata": {},
   "outputs": [
    {
     "name": "stdout",
     "output_type": "stream",
     "text": [
      "{'Name': 'Bob', 'Address': '1014 Orange St', 'Languages': ['SQL', 'Java', 'Fortran'], 'Hello': <__main__.Hello object at 0x7a0d7664a300>}\n",
      "['SQL', 'Java', 'Fortran']\n"
     ]
    }
   ],
   "source": [
    "# Read from a json file\n",
    "import json\n",
    "\n",
    "# Deserealization\n",
    "\n",
    "def hello_decoder(object):\n",
    "    if isinstance(object, dict):\n",
    "        cl = object.get(\"Class\", None)\n",
    "        if cl and cl == \"Hello\":\n",
    "            return Hello()\n",
    "    return object\n",
    "\n",
    "with open(\"bob.json\", \"r\") as file:\n",
    "    data = json.load(file, object_hook=hello_decoder)\n",
    "\n",
    "print(data)\n",
    "print(data.get(\"Languages\", None))"
   ]
  }
 ],
 "metadata": {
  "kernelspec": {
   "display_name": "Python 3",
   "language": "python",
   "name": "python3"
  },
  "language_info": {
   "codemirror_mode": {
    "name": "ipython",
    "version": 3
   },
   "file_extension": ".py",
   "mimetype": "text/x-python",
   "name": "python",
   "nbconvert_exporter": "python",
   "pygments_lexer": "ipython3",
   "version": "3.12.1"
  }
 },
 "nbformat": 4,
 "nbformat_minor": 5
}
