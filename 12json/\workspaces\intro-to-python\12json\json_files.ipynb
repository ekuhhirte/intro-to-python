{
 "cells": [
  {
   "cell_type": "code",
   "execution_count": null,
   "id": "d4b8222c",
   "metadata": {},
   "outputs": [],
   "source": [
    "#Recursive search"
   ]
  }
 ],
 "metadata": {
  "language_info": {
   "name": "python"
  }
 },
 "nbformat": 4,
 "nbformat_minor": 5
}
