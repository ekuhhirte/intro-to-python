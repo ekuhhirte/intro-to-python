{
 "cells": [
  {
   "cell_type": "code",
   "execution_count": null,
   "id": "6689e6e1",
   "metadata": {},
   "outputs": [
    {
     "name": "stdout",
     "output_type": "stream",
     "text": [
      "54\n",
      "64\n",
      "8\n",
      "10\n"
     ]
    }
   ],
   "source": [
    "#int built-in function (BIF)\n",
    "print(int(54.3))\n",
    "print(int (\"100\", 8))  #octal?\n",
    "print(int (\"1000\",2 )) #binary\n",
    "print(int (\"A\", 16)) #hexadecimal"
   ]
  },
  {
   "cell_type": "code",
   "execution_count": null,
   "id": "64994ea2",
   "metadata": {},
   "outputs": [
    {
     "name": "stdout",
     "output_type": "stream",
     "text": [
      "True\n",
      "True\n",
      "False\n"
     ]
    }
   ],
   "source": [
    "#bool BIF\n",
    "# True False\n",
    "print(bool(True))\n",
    "print(bool(1))\n",
    "print(bool(0))\n",
    "\n",
    "#logical operators\n",
    "# not and or\n",
    "print (bool(True or 0))\n",
    "print (bool (True and 0))\n",
    "print (bool (not 0))"
   ]
  },
  {
   "cell_type": "code",
   "execution_count": 6,
   "id": "2150ddf6",
   "metadata": {},
   "outputs": [
    {
     "name": "stdout",
     "output_type": "stream",
     "text": [
      "0.30000000000000004\n"
     ]
    }
   ],
   "source": [
    "# floats\n",
    "n = .1\n",
    "print(n + n + n)"
   ]
  },
  {
   "cell_type": "code",
   "execution_count": 9,
   "id": "2f7db4f6",
   "metadata": {},
   "outputs": [
    {
     "name": "stdout",
     "output_type": "stream",
     "text": [
      "0.3\n"
     ]
    }
   ],
   "source": [
    "# decimal\n",
    "from decimal import Decimal\n",
    "Decimal(\"0.1\")\n",
    "d = Decimal(\"0.1\") + Decimal(\"0.1\") + Decimal(\"0.1\")\n",
    "print(d)"
   ]
  },
  {
   "cell_type": "code",
   "execution_count": 11,
   "id": "a3e22053",
   "metadata": {},
   "outputs": [
    {
     "name": "stdout",
     "output_type": "stream",
     "text": [
      "Help on method_descriptor:\n",
      "\n",
      "title(self, /)\n",
      "    Return a version of the string where each word is titlecased.\n",
      "\n",
      "    More specifically, words start with uppercased characters and all remaining\n",
      "    cased characters have lower case.\n",
      "\n"
     ]
    }
   ],
   "source": [
    "name = \"john\"\n",
    "help(str.title)"
   ]
  }
 ],
 "metadata": {
  "kernelspec": {
   "display_name": "Python 3",
   "language": "python",
   "name": "python3"
  },
  "language_info": {
   "codemirror_mode": {
    "name": "ipython",
    "version": 3
   },
   "file_extension": ".py",
   "mimetype": "text/x-python",
   "name": "python",
   "nbconvert_exporter": "python",
   "pygments_lexer": "ipython3",
   "version": "3.12.1"
  }
 },
 "nbformat": 4,
 "nbformat_minor": 5
}
