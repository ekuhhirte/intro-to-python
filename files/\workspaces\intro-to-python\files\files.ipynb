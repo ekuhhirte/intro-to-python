{
 "cells": [
  {
   "cell_type": "code",
   "execution_count": 5,
   "id": "17cb4f8a",
   "metadata": {},
   "outputs": [
    {
     "name": "stdout",
     "output_type": "stream",
     "text": [
      "1.txt\n",
      "/workspaces/intro-to-python/files/1.txt\n",
      "/workspaces/intro-to-python/files\n",
      "/workspaces/intro-to-python\n",
      ".txt\n",
      "Exists: True\n",
      "Is file: True\n",
      "Parent is directory: True\n",
      "/workspaces/intro-to-python/files/dir1\n",
      "4.txt\n",
      "3.txt\n",
      "\\workspaces\\intro-to-python\\files\\files.ipynb\n",
      "1.txt\n",
      "file_names.txt\n",
      "dir2\n",
      "5.txt\n",
      "dir3\n",
      "2.txt\n",
      "dir1\n"
     ]
    }
   ],
   "source": [
    "# Create text files in the current directory\n",
    "# 1.txt 2.txt 3.txt 4.txt 5.txt\n",
    "\n",
    "from pathlib import Path\n",
    "\n",
    "for i in range(1,6): #remeber that the latter is not inclusive, only the former is inclusive\n",
    "    with open(f\"{i}.txt\", \"w\") as file:\n",
    "        file.write(f\"Writing into {file.name}\")\n",
    "\n",
    "# Working with file paths\n",
    "p = Path(\"1.txt\")\n",
    "\n",
    "# Path attributes and methods\n",
    "print(p.name) # file name\n",
    "print(p.absolute()) #absolute path\n",
    "print(p.absolute().parent) # parent of a file\n",
    "print(p.absolute().parent.parent) #grandparent of a file\n",
    "print(p.suffix) # file extension\\\n",
    "\n",
    "# Methods\n",
    "print(f\"Exists: {p.exists()}\")\n",
    "print(f\"Is file: {p.is_file()}\")\n",
    "print(f\"Parent is directory: {p.parent.is_dir()}\")\n",
    "\n",
    "# Create a directory\n",
    "dir_name = \"dir1\"\n",
    "new_path = Path(p.absolute().parent / dir_name)\n",
    "print(new_path.absolute())\n",
    "\n",
    "new_path2 = Path(p.absolute().parent / \"dir2\")\n",
    "new_path3 = Path(p.absolute().parent / \"dir3\")\n",
    "\n",
    "if not new_path.exists():\n",
    "    new_path.mkdir()\n",
    "\n",
    "if not new_path2.exists():\n",
    "    new_path2.mkdir()  \n",
    "\n",
    "if not new_path3.exists():\n",
    "    new_path3.mkdir() \n",
    "\n",
    "# Create a list of files in current directory\n",
    "for file in p.parent.iterdir():\n",
    "    print(file.name)\n",
    "\n",
    "with open(\"file_names.txt\", \"w\") as fl:\n",
    "    for file in p.parent.iterdir():\n",
    "        if file.is_file():\n",
    "            fl.write(file.name + \"\\n\")"
   ]
  },
  {
   "cell_type": "code",
   "execution_count": null,
   "id": "a8678fd2",
   "metadata": {},
   "outputs": [],
   "source": []
  }
 ],
 "metadata": {
  "kernelspec": {
   "display_name": "Python 3",
   "language": "python",
   "name": "python3"
  },
  "language_info": {
   "codemirror_mode": {
    "name": "ipython",
    "version": 3
   },
   "file_extension": ".py",
   "mimetype": "text/x-python",
   "name": "python",
   "nbconvert_exporter": "python",
   "pygments_lexer": "ipython3",
   "version": "3.12.1"
  }
 },
 "nbformat": 4,
 "nbformat_minor": 5
}
