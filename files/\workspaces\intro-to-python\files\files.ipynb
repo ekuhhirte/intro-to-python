{
 "cells": [
  {
   "cell_type": "code",
   "execution_count": 6,
   "id": "17cb4f8a",
   "metadata": {},
   "outputs": [
    {
     "name": "stdout",
     "output_type": "stream",
     "text": [
      "test.py\n",
      "/workspaces/intro-to-python/files/test.py\n",
      "/workspaces/intro-to-python/files\n",
      "/workspaces/intro-to-python\n",
      ".py\n"
     ]
    }
   ],
   "source": [
    "# Create text files in the current directory\n",
    "# 1.txt 2.txt 3.txt 4.txt 5.txt\n",
    "\n",
    "from pathlib import Path\n",
    "\n",
    "for i in range(1,6): #remeber that the latter is not inclusive, only the former is inclusive\n",
    "    with open(f\"{i}.txt\", \"w\") as file:\n",
    "        file.write(f\"Writing into {file.name}\")\n",
    "\n",
    "# Working with file paths\n",
    "p = Path(\"test.py\")\n",
    "\n",
    "# Path attributes and methods\n",
    "print(p.name) # file name\n",
    "print(p.absolute()) #absolute path\n",
    "print(p.absolute().parent) # parent of a file\n",
    "print(p.absolute().parent.parent) #grandparent of a file\n",
    "print(p.suffix) # file extension"
   ]
  },
  {
   "cell_type": "code",
   "execution_count": null,
   "id": "a8678fd2",
   "metadata": {},
   "outputs": [],
   "source": []
  }
 ],
 "metadata": {
  "kernelspec": {
   "display_name": "Python 3",
   "language": "python",
   "name": "python3"
  },
  "language_info": {
   "codemirror_mode": {
    "name": "ipython",
    "version": 3
   },
   "file_extension": ".py",
   "mimetype": "text/x-python",
   "name": "python",
   "nbconvert_exporter": "python",
   "pygments_lexer": "ipython3",
   "version": "3.12.1"
  }
 },
 "nbformat": 4,
 "nbformat_minor": 5
}
