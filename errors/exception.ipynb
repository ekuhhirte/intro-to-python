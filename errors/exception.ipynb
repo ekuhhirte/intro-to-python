{
 "cells": [
  {
   "cell_type": "code",
   "execution_count": 2,
   "id": "28161658",
   "metadata": {},
   "outputs": [
    {
     "ename": "TypeError",
     "evalue": "unsupported operand type(s) for +: 'int' and 'str'",
     "output_type": "error",
     "traceback": [
      "\u001b[31m---------------------------------------------------------------------------\u001b[39m",
      "\u001b[31mTypeError\u001b[39m                                 Traceback (most recent call last)",
      "\u001b[36mCell\u001b[39m\u001b[36m \u001b[39m\u001b[32mIn[2]\u001b[39m\u001b[32m, line 3\u001b[39m\n\u001b[32m      1\u001b[39m a = \u001b[32m1\u001b[39m\n\u001b[32m----> \u001b[39m\u001b[32m3\u001b[39m \u001b[43ma\u001b[49m\u001b[43m \u001b[49m\u001b[43m+\u001b[49m\u001b[43m \u001b[49m\u001b[33;43m\"\u001b[39;49m\u001b[33;43ma\u001b[39;49m\u001b[33;43m\"\u001b[39;49m\n\u001b[32m      5\u001b[39m \u001b[38;5;28mprint\u001b[39m(\u001b[33m\"\u001b[39m\u001b[33mVery important code\u001b[39m\u001b[33m\"\u001b[39m)\n",
      "\u001b[31mTypeError\u001b[39m: unsupported operand type(s) for +: 'int' and 'str'"
     ]
    }
   ],
   "source": [
    "a = 1\n",
    "\n",
    "a + \"a\"\n",
    "\n",
    "print(\"Very important code\")"
   ]
  },
  {
   "cell_type": "code",
   "execution_count": 5,
   "id": "24c62a38",
   "metadata": {},
   "outputs": [
    {
     "name": "stdout",
     "output_type": "stream",
     "text": [
      "Cannot add a string and an int\n",
      "Very important code\n"
     ]
    }
   ],
   "source": [
    "#Try except block\n",
    "\n",
    "try:\n",
    "    a = 1\n",
    "    a + \"a\"\n",
    "except TypeError as e:\n",
    "    print(\"Cannot add a string and an int\")\n",
    "\n",
    "print(\"Very important code\")"
   ]
  },
  {
   "cell_type": "code",
   "execution_count": 9,
   "id": "1bc71998",
   "metadata": {},
   "outputs": [
    {
     "name": "stdout",
     "output_type": "stream",
     "text": [
      "Index out of range\n"
     ]
    }
   ],
   "source": [
    "def f():\n",
    "    l = [1, 2, 3]\n",
    "    print(l[3])\n",
    "\n",
    "try:\n",
    "    f()\n",
    "except IndexError as error:\n",
    "    print(\"Index out of range\")"
   ]
  },
  {
   "cell_type": "code",
   "execution_count": 28,
   "id": "5efc4122",
   "metadata": {},
   "outputs": [
    {
     "name": "stdout",
     "output_type": "stream",
     "text": [
      "Error: Both arguments should be strings\n",
      "Exiting\n"
     ]
    }
   ],
   "source": [
    "# We can raise exceptions\n",
    "\n",
    "def add_strings(s1, s2):\n",
    "    if not (isinstance(s1, str) and isinstance(s2, str)):\n",
    "        raise TypeError(\"Both arguments should be strings\")\n",
    "    return s1 + s2\n",
    "\n",
    "try:\n",
    "    sum_str = add_strings(123, \"345\")\n",
    "    print(\"I want this to be printed\")\n",
    "except TypeError as e:\n",
    "    print(f\"Error: {e}\")\n",
    "else:\n",
    "    print(sum_str)\n",
    "finally:\n",
    "    print(\"Exiting\")"
   ]
  },
  {
   "cell_type": "code",
   "execution_count": 2,
   "id": "779202b7",
   "metadata": {},
   "outputs": [
    {
     "name": "stdout",
     "output_type": "stream",
     "text": [
      "Error: Tempature must be a number\n"
     ]
    }
   ],
   "source": [
    "# Create a custom exception\n",
    "class TemperatureRangeError(ValueError):\n",
    "    pass\n",
    "\n",
    "\n",
    "class Temperature:\n",
    "    def __init__(self, celsius):\n",
    "        if not isinstance(celsius, (int,float)):\n",
    "            raise TypeError(\"Tempature must be a number\")\n",
    "        if celsius < -273:\n",
    "            raise ValueError(\"Temperature cannot be below absolute zero (-273c)\")\n",
    "        \n",
    "        self.celsius = celsius\n",
    "        self.min_temp = 0\n",
    "        self.map_temp = 0\n",
    "    def set_range(self, min_temp, max_temp):\n",
    "        if not (isinstance(min_temp, Temperature) and isinstance(max_temp, Temperature)):\n",
    "            raise TypeError(\"Temperature must be a temperature object\")\n",
    "        elif min_temp.celsius > max_temp.celsius:\n",
    "            raise TemperatureRangeError(\"Min cannot be greater than max\")\n",
    "\n",
    "try:\n",
    "    temp = Temperature(\"-300\")\n",
    "except ValueError as error:\n",
    "    print(error)\n",
    "except TypeError as error:\n",
    "    print(f\"Error: {error}\")\n",
    "else:\n",
    "    print(f\"The temperature is {temp.celsius}°c\")"
   ]
  }
 ],
 "metadata": {
  "kernelspec": {
   "display_name": "Python 3",
   "language": "python",
   "name": "python3"
  },
  "language_info": {
   "codemirror_mode": {
    "name": "ipython",
    "version": 3
   },
   "file_extension": ".py",
   "mimetype": "text/x-python",
   "name": "python",
   "nbconvert_exporter": "python",
   "pygments_lexer": "ipython3",
   "version": "3.12.1"
  }
 },
 "nbformat": 4,
 "nbformat_minor": 5
}
