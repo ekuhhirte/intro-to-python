{
 "cells": [
  {
   "cell_type": "code",
   "execution_count": null,
   "id": "96922fdd",
   "metadata": {},
   "outputs": [
    {
     "name": "stdout",
     "output_type": "stream",
     "text": [
      "COP\n",
      "True\n",
      "True\n"
     ]
    }
   ],
   "source": [
    "#create a tuple\n",
    "my_tuple = (1, 2, 3.54, \"COP\")\n",
    "\n",
    "#access the values\n",
    "print(my_tuple[-1])\n",
    "\n",
    "#tuples cannot be modified\n",
    "#my_tuple[0] = 0.5\n",
    "\n",
    "print(1 in my_tuple)\n",
    "print(1 in my_tuple)"
   ]
  },
  {
   "cell_type": "code",
   "execution_count": 10,
   "id": "7225d253",
   "metadata": {},
   "outputs": [
    {
     "name": "stdout",
     "output_type": "stream",
     "text": [
      "1 2 3.54 COP\n"
     ]
    }
   ],
   "source": [
    "# Tuple Unpacking\n",
    "a, b, c, d = my_tuple\n",
    "print(a, b, c, d)"
   ]
  },
  {
   "cell_type": "code",
   "execution_count": null,
   "id": "b61a1b13",
   "metadata": {},
   "outputs": [
    {
     "name": "stdout",
     "output_type": "stream",
     "text": [
      "{'name': 'jack', 'age': 25, 'city': 'lakeland'}\n",
      "{'name': 'Anna', 'age': 19, 'city': 'Orlando'}\n",
      "jack\n"
     ]
    }
   ],
   "source": [
    "my_dict = {\"name\": \"jack\", \"age\": 25, \"city\": \"lakeland\"}\n",
    "\n",
    "my_dict2 = dict(name = \"Anna\", age = 19, city = \"Orlando\")\n",
    "\n",
    "print(my_dict)\n",
    "print(my_dict2)\n",
    "\n",
    "print(my_dict[\"name\"])\n"
   ]
  },
  {
   "cell_type": "code",
   "execution_count": null,
   "id": "bd0202c1",
   "metadata": {},
   "outputs": [],
   "source": []
  }
 ],
 "metadata": {
  "kernelspec": {
   "display_name": "Python 3",
   "language": "python",
   "name": "python3"
  },
  "language_info": {
   "codemirror_mode": {
    "name": "ipython",
    "version": 3
   },
   "file_extension": ".py",
   "mimetype": "text/x-python",
   "name": "python",
   "nbconvert_exporter": "python",
   "pygments_lexer": "ipython3",
   "version": "3.12.1"
  }
 },
 "nbformat": 4,
 "nbformat_minor": 5
}
