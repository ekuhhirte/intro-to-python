{
 "cells": [
  {
   "cell_type": "code",
   "execution_count": 5,
   "id": "46abe4bd",
   "metadata": {},
   "outputs": [
    {
     "name": "stdout",
     "output_type": "stream",
     "text": [
      "Hello, World! b'Hello, World!'\n",
      "dffd6021bb2bd5b0af676290809ec3a53191dd81c7f70a4b28688a362182986f\n",
      "f16c3bb0532537acd5b2e418f2b1235b29181e35cffee7cc29d84de4a1d62e4d\n"
     ]
    }
   ],
   "source": [
    "import hashlib\n",
    "\n",
    "msg = \"Hello, World!\"\n",
    "b_msg = msg.encode()\n",
    "print(msg, b_msg)\n",
    "\n",
    "# Generate a hash value for a message\n",
    "hash_value = hashlib.sha256(b_msg)\n",
    "print(hash_value.hexdigest())\n",
    "\n",
    "msg = \"Hello, World?\"\n",
    "b_msg = msg.encode()\n",
    "\n",
    "hash_value = hashlib.sha256(b_msg)\n",
    "print(hash_value.hexdigest())"
   ]
  },
  {
   "cell_type": "code",
   "execution_count": null,
   "id": "d5397bd8",
   "metadata": {},
   "outputs": [],
   "source": [
    "import hashlib\n",
    "\n",
    "# Create a file\n",
    "\n",
    "with open(\"test.txt\", \"w\") as file:\n",
    "    file.write(\"Very secret data!\")\n",
    "\n",
    "# Read a file as binary\n",
    "with open(\"test.txt\", \"rb\") as file:\n",
    "    file_content = file.read()"
   ]
  }
 ],
 "metadata": {
  "kernelspec": {
   "display_name": "Python 3",
   "language": "python",
   "name": "python3"
  },
  "language_info": {
   "codemirror_mode": {
    "name": "ipython",
    "version": 3
   },
   "file_extension": ".py",
   "mimetype": "text/x-python",
   "name": "python",
   "nbconvert_exporter": "python",
   "pygments_lexer": "ipython3",
   "version": "3.12.1"
  }
 },
 "nbformat": 4,
 "nbformat_minor": 5
}
